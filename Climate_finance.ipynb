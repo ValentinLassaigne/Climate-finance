{
 "cells": [
  {
   "attachments": {},
   "cell_type": "markdown",
   "metadata": {},
   "source": [
    "# Climate Aware Investing"
   ]
  },
  {
   "cell_type": "code",
   "execution_count": 3,
   "metadata": {},
   "outputs": [],
   "source": []
  },
  {
   "cell_type": "code",
   "execution_count": 135,
   "metadata": {},
   "outputs": [],
   "source": [
    "import pandas as pd\n",
    "import numpy as np\n",
    "import gurobipy as gp\n",
    "df_ISD=pd.read_excel('Individual_stock_data.xlsx')\n",
    "\n",
    "df_SP500=pd.read_excel('SP500.xlsx')\n",
    "SP500=np.asarray(df_SP500)\n",
    "df_CF=pd.read_excel('Carbon_footprint.xlsx')\n",
    "CF=np.asarray(df_CF)\n",
    "df_ISD=df_ISD.fillna(0)\n",
    "df_ISD.head()\n",
    "df_ISD=df_ISD.set_index('Date')\n",
    "\n",
    "ISD=np.asarray(df_ISD)"
   ]
  },
  {
   "cell_type": "code",
   "execution_count": 145,
   "metadata": {},
   "outputs": [],
   "source": [
    "\n",
    "df_SP500=df_SP500.set_index('Name')"
   ]
  },
  {
   "cell_type": "code",
   "execution_count": 137,
   "metadata": {},
   "outputs": [],
   "source": [
    "ISD=np.asarray(ISD,dtype=np.float64)"
   ]
  },
  {
   "cell_type": "code",
   "execution_count": 149,
   "metadata": {},
   "outputs": [],
   "source": [
    "SP500=np.array(df_SP500)"
   ]
  },
  {
   "cell_type": "code",
   "execution_count": 138,
   "metadata": {},
   "outputs": [
    {
     "data": {
      "text/plain": [
       "505"
      ]
     },
     "execution_count": 138,
     "metadata": {},
     "output_type": "execute_result"
    }
   ],
   "source": [
    "T= len(ISD)\n",
    "N=len(CF)\n",
    "N\n"
   ]
  },
  {
   "cell_type": "code",
   "execution_count": 142,
   "metadata": {},
   "outputs": [],
   "source": [
    "r=np.zeros((N,T))\n",
    "for i in range(N):\n",
    "    for t in range(T):\n",
    "        if t==0:\n",
    "            r[i,t]=0\n",
    "        else:\n",
    "            if ISD[t-1,i] != 0:\n",
    "                r[i,t]=(ISD[t,i]-ISD[t-1,i])/ISD[t-1,i]   \n"
   ]
  },
  {
   "cell_type": "code",
   "execution_count": 150,
   "metadata": {},
   "outputs": [],
   "source": [
    "r_index=np.zeros(T)\n",
    "for t in range(T):\n",
    "    if t==0:\n",
    "        r_index[t]=0\n",
    "    else:\n",
    "        if SP500[t-1] != 0:\n",
    "            r_index[t]=(SP500[t]-SP500[t-1])/SP500[t-1]   "
   ]
  },
  {
   "cell_type": "code",
   "execution_count": 152,
   "metadata": {},
   "outputs": [
    {
     "name": "stdout",
     "output_type": "stream",
     "text": [
      "Gurobi Optimizer version 9.5.2 build v9.5.2rc0 (win64)\n",
      "Thread count: 4 physical cores, 8 logical processors, using up to 8 threads\n",
      "Optimize a model with 1567 rows, 505 columns and 791335 nonzeros\n",
      "Model fingerprint: 0x591f0487\n",
      "Model has 503 quadratic objective terms\n",
      "Coefficient statistics:\n",
      "  Matrix range     [1e+00, 1e+00]\n",
      "  Objective range  [2e-03, 3e+00]\n",
      "  QObjective range [5e-02, 3e+01]\n",
      "  Bounds range     [1e+00, 1e+00]\n",
      "  RHS range        [1e+00, 1e+00]\n",
      "Presolve removed 1566 rows and 2 columns\n",
      "Presolve time: 0.09s\n",
      "Presolved: 1 rows, 503 columns, 503 nonzeros\n",
      "Presolved model has 503 quadratic objective terms\n",
      "Ordering time: 0.00s\n",
      "\n",
      "Barrier statistics:\n",
      " AA' NZ     : 0.000e+00\n",
      " Factor NZ  : 1.000e+00\n",
      " Factor Ops : 1.000e+00 (less than 1 second per iteration)\n",
      " Threads    : 1\n",
      "\n",
      "                  Objective                Residual\n",
      "Iter       Primal          Dual         Primal    Dual     Compl     Time\n",
      "   0   1.33633286e+08 -1.33822321e+08  4.74e+04 1.14e-13  3.03e+05     0s\n",
      "   1   7.11965840e+07 -7.13369900e+07  3.17e+04 1.71e-13  2.25e+05     0s\n",
      "   2   1.17191661e+06 -1.18687761e+06  2.69e+03 5.76e-12  2.60e+04     0s\n",
      "   3   2.98124462e+03 -4.48198391e+03  4.43e+01 1.02e-12  3.85e+02     0s\n",
      "   4   3.85944733e+02 -1.57301967e+03  0.00e+00 4.66e-13  1.95e+00     0s\n",
      "   5   3.85944208e+02  3.82654215e+02  0.00e+00 5.64e-13  3.27e-03     0s\n",
      "   6   3.85663193e+02  3.84837056e+02  0.00e+00 1.00e-13  8.20e-04     0s\n",
      "   7   3.85466027e+02  3.85085925e+02  0.00e+00 6.15e-15  3.77e-04     0s\n",
      "   8   3.85354902e+02  3.85210798e+02  0.00e+00 4.20e-16  1.43e-04     0s\n",
      "   9   3.85289590e+02  3.85257847e+02  0.00e+00 5.37e-16  3.15e-05     0s\n",
      "  10   3.85269986e+02  3.85268384e+02  0.00e+00 1.25e-15  1.59e-06     0s\n",
      "  11   3.85268621e+02  3.85268601e+02  0.00e+00 4.00e-16  1.94e-08     0s\n",
      "  12   3.85268607e+02  3.85268607e+02  0.00e+00 2.50e-15  3.77e-10     0s\n",
      "  13   3.85268607e+02  3.85268607e+02  0.00e+00 1.60e-15  1.53e-12     0s\n",
      "\n",
      "Barrier solved model in 13 iterations and 0.11 seconds (0.18 work units)\n",
      "Optimal objective 3.85268607e+02\n",
      "\n"
     ]
    }
   ],
   "source": [
    "T= len(ISD)\n",
    "N=len(CF)\n",
    "\n",
    "Model = gp.Model(name = 'Climate Aware Investing')\n",
    "\n",
    "w = {(i) : Model.addVar(vtype=gp.GRB.CONTINUOUS, ub=1, lb=0)                             \n",
    "              for i in range(N)}\n",
    "\n",
    "\n",
    "#Contrainte de capacité minimum pour les centrales\n",
    "CSTR1 = {t : Model.addLConstr(sum(w[i] for i in range(N)), \"=\" ,1)\n",
    "        for t in range(T)}\n",
    "\n",
    "Model.setObjective(sum((w[i]*r[i,t]-r_index[t])**2 for i in range(N) for t in range(T)),gp.GRB.MINIMIZE)\n",
    "\n",
    "Model.update()\n",
    "Model.optimize()\n"
   ]
  },
  {
   "cell_type": "code",
   "execution_count": 158,
   "metadata": {},
   "outputs": [],
   "source": [
    "import matplotlib.pyplot as plt"
   ]
  },
  {
   "cell_type": "code",
   "execution_count": 159,
   "metadata": {},
   "outputs": [
    {
     "data": {
      "text/plain": [
       "[<matplotlib.lines.Line2D at 0x24bda126d00>]"
      ]
     },
     "execution_count": 159,
     "metadata": {},
     "output_type": "execute_result"
    },
    {
     "data": {
      "image/png": "[encoded data removed]",
      "text/plain": [
       "<Figure size 432x288 with 1 Axes>"
      ]
     },
     "metadata": {
      "needs_background": "light"
     },
     "output_type": "display_data"
    }
   ],
   "source": [
    "res=[]\n",
    "for i in range(N) :\n",
    "    res.append(w[i].x)\n",
    "\n",
    "plt.plot(res)"
   ]
  },
  {
   "cell_type": "code",
   "execution_count": null,
   "metadata": {},
   "outputs": [],
   "source": []
  }
 ],
 "metadata": {
  "kernelspec": {
   "display_name": "base",
   "language": "python",
   "name": "python3"
  },
  "language_info": {
   "codemirror_mode": {
    "name": "ipython",
    "version": 3
   },
   "file_extension": ".py",
   "mimetype": "text/x-python",
   "name": "python",
   "nbconvert_exporter": "python",
   "pygments_lexer": "ipython3",
   "version": "3.9.12"
  },
  "orig_nbformat": 4,
  "vscode": {
   "interpreter": {
    "hash": "ad2bdc8ecc057115af97d19610ffacc2b4e99fae6737bb82f5d7fb13d2f2c186"
   }
  }
 },
 "nbformat": 4,
 "nbformat_minor": 2
}
