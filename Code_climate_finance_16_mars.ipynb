{
 "cells": [
  {
   "cell_type": "code",
   "execution_count": 1,
   "id": "e4ad2396-29bc-4c73-8e65-499f0aa2fbda",
   "metadata": {},
   "outputs": [],
   "source": [
    "import pandas as pd\n",
    "import numpy as np\n",
    "import matplotlib.pyplot as plt"
   ]
  },
  {
   "cell_type": "code",
   "execution_count": 2,
   "id": "aae0a427-cb59-4eee-9350-b2c7094d211b",
   "metadata": {},
   "outputs": [],
   "source": [
    "stocks = pd.read_excel('Individual_stock_data.xlsx',sheet_name='stock prices', index_col = 0)"
   ]
  },
  {
   "cell_type": "code",
   "execution_count": 3,
   "id": "269d10a4-6d03-4078-b12f-c4ae9c969a3f",
   "metadata": {},
   "outputs": [],
   "source": [
    "newdf = stocks.select_dtypes(include='object')\n",
    "for column in newdf.columns:\n",
    "    stocks = stocks.drop(column, axis = 1)"
   ]
  },
  {
   "cell_type": "code",
   "execution_count": 4,
   "id": "0fc51e94-1a9b-493e-953d-39501b7fdc22",
   "metadata": {},
   "outputs": [],
   "source": [
    "#Compute the returns of the stocks\n",
    "values=stocks\n",
    "stocks = stocks.pct_change()\n"
   ]
  },
  {
   "cell_type": "code",
   "execution_count": 5,
   "id": "9d52730d-85a6-4d52-87bd-356b69e28e2b",
   "metadata": {},
   "outputs": [],
   "source": [
    "#Remove the first week because it is the reference year\n",
    "stocks = stocks.iloc[1:]\n",
    "values=values.iloc[1:]"
   ]
  },
  {
   "cell_type": "code",
   "execution_count": 6,
   "id": "15acb599-4bbb-4639-8d53-86658409dd74",
   "metadata": {},
   "outputs": [],
   "source": [
    "index = pd.read_excel('Individual_stock_data.xlsx',sheet_name='SP500',index_col = 0)"
   ]
  },
  {
   "cell_type": "code",
   "execution_count": 7,
   "id": "6a7edd1c-61d4-464c-9066-843886f148ba",
   "metadata": {},
   "outputs": [],
   "source": [
    "#Compute the returns\n",
    "index = index.pct_change()\n",
    "index = index.iloc[1:]"
   ]
  },
  {
   "cell_type": "code",
   "execution_count": 8,
   "id": "8aa57a8c-6f87-418e-a573-5ff142cb6645",
   "metadata": {},
   "outputs": [],
   "source": [
    "static_data = pd.read_excel('Individual_stock_data.xlsx',sheet_name='carbon footprint data')"
   ]
  },
  {
   "cell_type": "code",
   "execution_count": 9,
   "id": "f07e60cd-8a03-44c5-8c1e-9c5f9123878e",
   "metadata": {},
   "outputs": [],
   "source": [
    "#rename first column\n",
    "static_data = static_data.rename(columns={'Unnamed: 0': 'StockNames'})\n",
    "#Set index\n",
    "static_data.set_index(['StockNames'], inplace=True)\n",
    "#Set dataframe\n",
    "static_data = static_data[['SECTOR','SECTOR_NAME','INTENSITY']]\n",
    "\n",
    "for ind in newdf.columns:\n",
    "    static_data = static_data.drop(ind, axis = 0)"
   ]
  },
  {
   "cell_type": "code",
   "execution_count": 10,
   "id": "e1c91961-1331-4edb-9825-ff31d2bcc3ed",
   "metadata": {},
   "outputs": [],
   "source": [
    "def portfolio_return(weights,st):\n",
    "    return(pd.DataFrame(((weights*st).transpose()).sum(),index = index.index))"
   ]
  },
  {
   "cell_type": "code",
   "execution_count": 11,
   "id": "dcd1e3f6-6491-43cf-8918-e7017b6ef627",
   "metadata": {},
   "outputs": [],
   "source": [
    "from scipy.optimize import minimize\n",
    "    \n",
    "def mTE(stocks,indx):\n",
    "    \"\"\"\n",
    "    Returns the weights of the portfolio that gives you the maximum sharpe ratio\n",
    "    given the riskfree rate and expected returns and a covariance matrix\n",
    "    \"\"\"\n",
    "    n = stocks.shape[1]\n",
    "    T = stocks.shape[0]\n",
    "    #init_guess = np.repeat(1/n, n)\n",
    "    init_guess = np.repeat(0, n)\n",
    "    init_guess[0]=1\n",
    "    \n",
    "    bounds = ((0.0, 1.0),) * n # an N-tuple of 2-tuples!\n",
    "    # construct the constraints\n",
    "    weights_sum_to_1 = {'type': 'eq',\n",
    "                        'fun': lambda weights: np.sum(weights) - 1\n",
    "    }\n",
    "    def TE(weights, stocks, indx):\n",
    "        \"\"\"\n",
    "        Returns the tracking error\n",
    "        \"\"\"\n",
    "        r = portfolio_return(weights, stocks)\n",
    "        diff = r.values - indx.values\n",
    "        return ((diff)**2/T).sum()\n",
    "    \n",
    "    weights = minimize(TE, init_guess,\n",
    "                       args=(stocks, indx), method='SLSQP',\n",
    "                       options={'disp': False},\n",
    "                       constraints=(weights_sum_to_1,),\n",
    "                       bounds=bounds)\n",
    "    return weights.x\n"
   ]
  },
  {
   "cell_type": "code",
   "execution_count": 12,
   "id": "02a4cdc8-bc4b-406a-81b7-396a6cb95b1a",
   "metadata": {},
   "outputs": [],
   "source": [
    "w = mTE(stocks,index)"
   ]
  },
  {
   "cell_type": "code",
   "execution_count": 13,
   "id": "56be5642-15a6-4c7a-bcde-e7192b739fc3",
   "metadata": {},
   "outputs": [
    {
     "data": {
      "text/plain": [
       "[<matplotlib.lines.Line2D at 0x1af84996fd0>]"
      ]
     },
     "execution_count": 13,
     "metadata": {},
     "output_type": "execute_result"
    },
    {
     "data": {
      "image/png": "[encoded data removed]",
      "text/plain": [
       "<Figure size 432x288 with 1 Axes>"
      ]
     },
     "metadata": {
      "needs_background": "light"
     },
     "output_type": "display_data"
    }
   ],
   "source": [
    "plt.plot(w)"
   ]
  },
  {
   "cell_type": "code",
   "execution_count": 14,
   "id": "741dfaf2-51b2-48bf-ba6d-32f5220589a4",
   "metadata": {},
   "outputs": [],
   "source": [
    "index_CI = (w*static_data['INTENSITY']).sum()    # Intensité carbone de l'index SP500 (à utiliser dans les contraines)"
   ]
  },
  {
   "attachments": {},
   "cell_type": "markdown",
   "id": "9901a8ec",
   "metadata": {},
   "source": [
    "# Strategy 1 : max ENC (dollar)"
   ]
  },
  {
   "cell_type": "code",
   "execution_count": 15,
   "id": "857c1799",
   "metadata": {},
   "outputs": [],
   "source": [
    "from scipy.optimize import minimize\n",
    "    \n",
    "def mENC(stocks):\n",
    "    \"\"\"\n",
    "    Returns the weights of the portfolio that gives you the maximum sharpe ratio\n",
    "    given the riskfree rate and expected returns and a covariance matrix\n",
    "    \"\"\"\n",
    "    n = stocks.shape[1]\n",
    "    T = stocks.shape[0]\n",
    "    #init_guess = np.repeat(1/n, n)\n",
    "    init_guess = np.zeros(n)\n",
    "    init_guess[0] = 1\n",
    "    bounds = ((0.0, 1.0),) * n # an N-tuple of 2-tuples!\n",
    "    # construct the constraints\n",
    "    weights_sum_to_1 = {'type': 'eq',\n",
    "                        'fun': lambda weights: np.sum(weights) - 1\n",
    "    }\n",
    "    def ENC(weights, stocks):\n",
    "        \"\"\"\n",
    "        Returns ENC\n",
    "        \"\"\"\n",
    "        return -1/(((weights)**2).sum())\n",
    "    weights = minimize(ENC, init_guess,\n",
    "                       args=(stocks), method='SLSQP',\n",
    "                       options={'disp': False},\n",
    "                       constraints=(weights_sum_to_1,),\n",
    "                       bounds=bounds)\n",
    "    return weights.x"
   ]
  },
  {
   "attachments": {},
   "cell_type": "markdown",
   "id": "6eb1479a",
   "metadata": {},
   "source": [
    "# Strategy 2 : min Tracking Error"
   ]
  },
  {
   "cell_type": "code",
   "execution_count": 16,
   "id": "f5ab87d9",
   "metadata": {},
   "outputs": [],
   "source": [
    "from scipy.optimize import minimize\n",
    "\n",
    "def portfolio_return(weights,st,indx):\n",
    "    return(pd.DataFrame(((weights*st).transpose()).sum(),index = indx.index))\n",
    "\n",
    "def mTE2(st,indx):\n",
    "    \"\"\"\n",
    "    Returns the weights of the portfolio that gives you the maximum sharpe ratio\n",
    "    given the riskfree rate and expected returns and a covariance matrix\n",
    "    \"\"\"\n",
    "    n = st.shape[1]\n",
    "    T = st.shape[0]\n",
    " \n",
    "    init_guess = np.zeros(n)\n",
    "    init_guess[0]=1\n",
    "\n",
    "    bounds = ((0.0, 1.0),) * n # an N-tuple of 2-tuples!\n",
    "    # construct the constraints\n",
    "    weights_sum_to_1 = {'type': 'eq',\n",
    "                        'fun': lambda weights: np.sum(weights) - 1\n",
    "    }\n",
    "    def TE2(weights, st, indx):\n",
    "        \"\"\"\n",
    "        Returns the tracking error\n",
    "        \"\"\"\n",
    "        r = portfolio_return(weights, st,indx)\n",
    "        diff = r.values - indx.values\n",
    "        return ((diff)**2/T).sum()\n",
    "    \n",
    "    weights = minimize(TE2, init_guess,\n",
    "                       args=(st, indx), method='SLSQP',\n",
    "                       options={'disp': False},\n",
    "                       constraints=weights_sum_to_1,\n",
    "                       bounds=bounds)\n",
    "    return weights.x\n"
   ]
  },
  {
   "attachments": {},
   "cell_type": "markdown",
   "id": "9949edc8",
   "metadata": {},
   "source": [
    "# Strategy 3 : min variance"
   ]
  },
  {
   "cell_type": "code",
   "execution_count": 17,
   "id": "02aedf47",
   "metadata": {},
   "outputs": [],
   "source": [
    "from scipy.optimize import minimize\n",
    "    \n",
    "\n",
    "def mVAR(stocks):\n",
    "    \"\"\"\n",
    "    Returns the weights of the portfolio that gives you the maximum sharpe ratio\n",
    "    given the riskfree rate and expected returns and a covariance matrix\n",
    "    \"\"\"\n",
    "    n = stocks.shape[1]\n",
    "    T = stocks.shape[0]\n",
    "    init_guess = np.repeat(1/n, n)\n",
    "    #init_guess = np.zeros(n)\n",
    "    #init_guess[0]=0.5\n",
    "    #init_guess[1]=0.5\n",
    "    bounds = ((0.0, 1.0),) * n # an N-tuple of 2-tuples!\n",
    "    # construct the constraints\n",
    "    weights_sum_to_1 = {'type': 'eq',\n",
    "                        'fun': lambda weights: np.sum(weights) - 1\n",
    "    }\n",
    "    def VAR(weights, stocks):\n",
    "        \"\"\"\n",
    "        Returns the variance\n",
    "        \"\"\"\n",
    "        return np.dot(weights,np.dot(stocks.cov(),weights))\n",
    "    \n",
    "    weights = minimize(VAR, init_guess,\n",
    "                       args=(stocks), method='SLSQP',\n",
    "                       options={'disp': False},\n",
    "                       constraints=(weights_sum_to_1,),\n",
    "                       bounds=bounds)\n",
    "    return weights.x\n"
   ]
  },
  {
   "attachments": {},
   "cell_type": "markdown",
   "id": "d2d6553e",
   "metadata": {},
   "source": [
    "# Strategy 4 : max ENCB (risks)"
   ]
  },
  {
   "cell_type": "code",
   "execution_count": 18,
   "id": "cb15f0a8",
   "metadata": {},
   "outputs": [],
   "source": [
    "from scipy.optimize import minimize\n",
    "    \n",
    "def VAR(weights, stocks):\n",
    "        \"\"\"\n",
    "        Returns the variance\n",
    "        \"\"\"\n",
    "        return np.dot(weights,np.dot(stocks.cov(),weights))\n",
    "\n",
    "def mENCB(stocks):\n",
    "    \"\"\"\n",
    "    Returns the weights of the portfolio that gives you the maximum sharpe ratio\n",
    "    given the riskfree rate and expected returns and a covariance matrix\n",
    "    \"\"\"\n",
    "    n = stocks.shape[1]\n",
    "    T = stocks.shape[0]\n",
    "    #init_guess = np.repeat(1/n, n)\n",
    "    init_guess = np.zeros(n)\n",
    "    init_guess[0]=0.5\n",
    "    init_guess[1]=0.5\n",
    "    bounds = ((0.0, 1.0),) * n # an N-tuple of 2-tuples!\n",
    "    # construct the constraints\n",
    "    weights_sum_to_1 = {'type': 'eq',\n",
    "                        'fun': lambda weights: np.sum(weights) - 1\n",
    "    }\n",
    "    def ENCB(weights, stocks):\n",
    "        \"\"\"\n",
    "        Returns the variance\n",
    "        \"\"\"\n",
    "        p=(weights*np.dot(stocks.cov(),weights))/VAR(weights, stocks)\n",
    "        \n",
    "        return -1/(p**2).sum()\n",
    "    \n",
    "    weights = minimize(ENCB, init_guess,\n",
    "                       args=(stocks), method='SLSQP',\n",
    "                       options={'disp': False},\n",
    "                       constraints=(weights_sum_to_1,),\n",
    "                       bounds=bounds)\n",
    "    return weights.x\n"
   ]
  },
  {
   "attachments": {},
   "cell_type": "markdown",
   "id": "fe11345d",
   "metadata": {},
   "source": [
    "# Indicators (functions)"
   ]
  },
  {
   "cell_type": "code",
   "execution_count": 19,
   "id": "8e73d7a6",
   "metadata": {},
   "outputs": [],
   "source": [
    "def Sharpe(weights,st):\n",
    "    return np.dot(weights,st.mean(axis=0))/VAR(weights,st)    # Sharpe ratio with the risk free rate = 0\n",
    "\n",
    "#Annualized volatility\n",
    "def Annualized_vol(weights,st):\n",
    "    #return np.dot(weights,st.var(axis=0))*np.sqrt(52)  #VERSION DE VALENTIN \n",
    "    return np.sqrt(52)*np.sqrt(np.dot(st,weights).var(axis=0))   # VERSION DE DAMIEN\n",
    "\n",
    "#Expected returns\n",
    "def E_returns(weights,st):\n",
    "    #return (1+np.dot(weights,st.mean(axis=0)))**(12)    # VERSION DE VALENTIN\n",
    "    return   np.mean(np.dot(st,weights))    # VERSION DE DAMIEN\n"
   ]
  },
  {
   "cell_type": "code",
   "execution_count": null,
   "id": "fa2c8dc4",
   "metadata": {},
   "outputs": [],
   "source": []
  },
  {
   "attachments": {},
   "cell_type": "markdown",
   "id": "4d3b080d",
   "metadata": {},
   "source": [
    "# COMPUTATIONS "
   ]
  },
  {
   "cell_type": "code",
   "execution_count": 20,
   "id": "d208885a",
   "metadata": {},
   "outputs": [
    {
     "data": {
      "image/png": "[encoded data removed]",
      "text/plain": [
       "<Figure size 432x288 with 1 Axes>"
      ]
     },
     "metadata": {
      "needs_background": "light"
     },
     "output_type": "display_data"
    }
   ],
   "source": [
    "delta=round(104)                                 # 2 years\n",
    "delta_3m=round(12)                               # 3 months\n",
    "N=stocks.shape[0]                         # Time data available\n",
    "Periods=round(N/delta_3m)                 # Number of 3 months periods\n",
    "\n",
    "w_list=[]\n",
    "expected_returns=[]\n",
    "Sharpe_ratio=[]\n",
    "Annualized_volatility=[]\n",
    "\n",
    "start=round(0)\n",
    "end=round(delta)\n",
    "for j in range(Periods):\n",
    "    stocks_period=stocks.iloc[start:end]          # 2 first years of data\n",
    "    bool=~stocks_period.isna().any(axis=0)    # Remove company if missing data\n",
    "\n",
    "    names=[]\n",
    "    for p in range(stocks_period.shape[1]):\n",
    "        if bool[p]==True:\n",
    "            names.append(bool.index[p])\n",
    "\n",
    "    stocks_period[names].head()\n",
    "\n",
    "    # Get sectors names\n",
    "    static_data_ps=static_data.loc[names]\n",
    "\n",
    "    SECTORS=static_data_ps['SECTOR'].unique()\n",
    "    ratio=np.zeros(len(SECTORS))\n",
    "    selected=[]\n",
    "\n",
    "    for k,i in enumerate(SECTORS) :\n",
    "        ratio[k]=(static_data_ps.loc[static_data_ps['SECTOR']==i].SECTOR.count())/len(static_data_ps)   # Pourcentage of each sectors in SP500\n",
    "        selected.append(static_data_ps.loc[static_data_ps['SECTOR']==i].sort_values(by=['INTENSITY'])[:int(ratio[k]*50)+1])    # Select the companies in each sector with the best carbon intensity, while respecting the ratio in SP500\n",
    "\n",
    "    #Create a list with the stocks of the selected companies \n",
    "    m=0\n",
    "    list=[]\n",
    "    for i in range(11):\n",
    "        list.append(selected[i])\n",
    "\n",
    "    pos_scr=pd.concat(list).sort_values(by=['INTENSITY'])\n",
    "    #Dataframe of the ~ 50 selected stocks\n",
    "    stocks2=stocks_period[pos_scr.index]    #returns\n",
    "    #values2=values[pos_scr.index]    # $ values of the stocks\n",
    "    index2=index.iloc[start:end]\n",
    "\n",
    "    w=mTE2(stocks2,index2)\n",
    "\n",
    "    w_list.append(w)\n",
    "    \n",
    "    expected_returns.append(E_returns(w,stocks2))\n",
    "    Sharpe_ratio.append(Sharpe(w,stocks2))\n",
    "    Annualized_volatility.append(Annualized_vol(w,stocks2))\n",
    "\n",
    "    start=start+delta_3m\n",
    "    end=end+delta_3m\n",
    "\n",
    "plt.plot(w_list[0],label='first')\n",
    "plt.plot(w_list[-1],label='last')\n",
    "plt.legend()\n",
    "plt.show()\n",
    "\n",
    "\n"
   ]
  },
  {
   "cell_type": "code",
   "execution_count": 28,
   "id": "5922567f",
   "metadata": {},
   "outputs": [
    {
     "data": {
      "image/png": "[encoded data removed]",
      "text/plain": [
       "<Figure size 432x288 with 1 Axes>"
      ]
     },
     "metadata": {
      "needs_background": "light"
     },
     "output_type": "display_data"
    }
   ],
   "source": [
    "plt.plot(Annualized_volatility,'*')\n",
    "plt.title('Annualized_volatility')\n",
    "plt.show()"
   ]
  },
  {
   "cell_type": "code",
   "execution_count": 29,
   "id": "6ddc397c",
   "metadata": {},
   "outputs": [
    {
     "data": {
      "image/png": "[encoded data removed]",
      "text/plain": [
       "<Figure size 432x288 with 1 Axes>"
      ]
     },
     "metadata": {
      "needs_background": "light"
     },
     "output_type": "display_data"
    },
    {
     "name": "stdout",
     "output_type": "stream",
     "text": [
      "130\n"
     ]
    }
   ],
   "source": [
    "plt.plot(expected_returns,'*')\n",
    "plt.title('expected returns')\n",
    "plt.show()\n",
    "print(len(expected_returns))"
   ]
  },
  {
   "cell_type": "code",
   "execution_count": 30,
   "id": "80406901",
   "metadata": {},
   "outputs": [
    {
     "data": {
      "image/png": "[encoded data removed]",
      "text/plain": [
       "<Figure size 432x288 with 1 Axes>"
      ]
     },
     "metadata": {
      "needs_background": "light"
     },
     "output_type": "display_data"
    }
   ],
   "source": [
    "plt.plot(Sharpe_ratio)\n",
    "plt.title('Sharpe ratios')\n",
    "plt.show()"
   ]
  },
  {
   "attachments": {},
   "cell_type": "markdown",
   "id": "d8da8944",
   "metadata": {},
   "source": [
    "# Strategy 2"
   ]
  },
  {
   "cell_type": "code",
   "execution_count": 31,
   "id": "5703ec2c",
   "metadata": {},
   "outputs": [
    {
     "data": {
      "image/png": "[encoded data removed]",
      "text/plain": [
       "<Figure size 432x288 with 1 Axes>"
      ]
     },
     "metadata": {
      "needs_background": "light"
     },
     "output_type": "display_data"
    }
   ],
   "source": [
    "delta=round(104)                                 # 2 years\n",
    "delta_3m=round(12)                               # 3 months\n",
    "N=stocks.shape[0]                         # Time data available\n",
    "Periods=round(N/delta_3m)                 # Number of 3 months periods\n",
    "\n",
    "w_list=[]\n",
    "expected_returns=[]\n",
    "Sharpe_ratio=[]\n",
    "Annualized_volatility=[]\n",
    "\n",
    "start=round(0)\n",
    "end=round(delta)\n",
    "for j in range(Periods):\n",
    "    stocks_period=stocks.iloc[start:end]          # 2 first years of data\n",
    "    bool=~stocks_period.isna().any(axis=0)    # Remove company if missing data\n",
    "\n",
    "    names=[]\n",
    "    for p in range(stocks_period.shape[1]):\n",
    "        if bool[p]==True:\n",
    "            names.append(bool.index[p])\n",
    "\n",
    "    stocks_period[names].head()\n",
    "\n",
    "    # Get sectors names\n",
    "    static_data_ps=static_data.loc[names]\n",
    "\n",
    "    SECTORS=static_data_ps['SECTOR'].unique()\n",
    "    ratio=np.zeros(len(SECTORS))\n",
    "    selected=[]\n",
    "\n",
    "    for k,i in enumerate(SECTORS) :\n",
    "        ratio[k]=(static_data_ps.loc[static_data_ps['SECTOR']==i].SECTOR.count())/len(static_data_ps)   # Pourcentage of each sectors in SP500\n",
    "        selected.append(static_data_ps.loc[static_data_ps['SECTOR']==i].sort_values(by=['INTENSITY'])[:int(ratio[k]*50)+1])    # Select the companies in each sector with the best carbon intensity, while respecting the ratio in SP500\n",
    "\n",
    "    #Create a list with the stocks of the selected companies \n",
    "    m=0\n",
    "    list=[]\n",
    "    for i in range(11):\n",
    "        list.append(selected[i])\n",
    "\n",
    "    pos_scr=pd.concat(list).sort_values(by=['INTENSITY'])\n",
    "    #Dataframe of the ~ 50 selected stocks\n",
    "    stocks2=stocks_period[pos_scr.index]    #returns\n",
    "    #values2=values[pos_scr.index]    # $ values of the stocks\n",
    "    index2=index.iloc[start:end]\n",
    "\n",
    "    w=mENCB(stocks2)\n",
    "\n",
    "    w_list.append(w)\n",
    "    \n",
    "    expected_returns.append(E_returns(w,stocks2))\n",
    "    Sharpe_ratio.append(Sharpe(w,stocks2))\n",
    "    Annualized_volatility.append(Annualized_vol(w,stocks2))\n",
    "\n",
    "    start=start+delta_3m\n",
    "    end=end+delta_3m\n",
    "\n",
    "plt.plot(w_list[0],label='first')\n",
    "plt.plot(w_list[-1],label='last')\n",
    "plt.legend()\n",
    "plt.show()\n"
   ]
  },
  {
   "cell_type": "code",
   "execution_count": null,
   "id": "09f05900",
   "metadata": {},
   "outputs": [],
   "source": [
    "delta=round(104)                                 # 2 years\n",
    "delta_3m=round(12)                               # 3 months\n",
    "N=stocks.shape[0]                         # Time data available\n",
    "Periods=round(N/delta_3m)                 # Number of 3 months periods\n",
    "\n",
    "w_list=[]\n",
    "expected_returns=[]\n",
    "Sharpe_ratio=[]\n",
    "Annualized_volatility=[]\n",
    "\n",
    "start=round(0)\n",
    "end=round(delta)\n",
    "for j in range(Periods):\n",
    "    stocks_period=stocks.iloc[start:end]          # 2 first years of data\n",
    "    bool=~stocks_period.isna().any(axis=0)    # Remove company if missing data\n",
    "\n",
    "    names=[]\n",
    "    for p in range(stocks_period.shape[1]):\n",
    "        if bool[p]==True:\n",
    "            names.append(bool.index[p])\n",
    "\n",
    "    stocks_period[names].head()\n",
    "\n",
    "    # Get sectors names\n",
    "    static_data_ps=static_data.loc[names]\n",
    "\n",
    "    SECTORS=static_data_ps['SECTOR'].unique()\n",
    "    ratio=np.zeros(len(SECTORS))\n",
    "    selected=[]\n",
    "\n",
    "    for k,i in enumerate(SECTORS) :\n",
    "        ratio[k]=(static_data_ps.loc[static_data_ps['SECTOR']==i].SECTOR.count())/len(static_data_ps)   # Pourcentage of each sectors in SP500\n",
    "        selected.append(static_data_ps.loc[static_data_ps['SECTOR']==i].sort_values(by=['INTENSITY'])[:int(ratio[k]*50)+1])    # Select the companies in each sector with the best carbon intensity, while respecting the ratio in SP500\n",
    "\n",
    "    #Create a list with the stocks of the selected companies \n",
    "    m=0\n",
    "    list=[]\n",
    "    for i in range(11):\n",
    "        list.append(selected[i])\n",
    "\n",
    "    pos_scr=pd.concat(list).sort_values(by=['INTENSITY'])\n",
    "    #Dataframe of the ~ 50 selected stocks\n",
    "    stocks2=stocks_period[pos_scr.index]    #returns\n",
    "    #values2=values[pos_scr.index]    # $ values of the stocks\n",
    "    index2=index.iloc[start:end]\n",
    "\n",
    "    w=mTE2(stocks2,index2)\n",
    "\n",
    "    w_list.append(w)\n",
    "    \n",
    "    expected_returns.append(E_returns(w,stocks2))\n",
    "    Sharpe_ratio.append(Sharpe(w,stocks2))\n",
    "    Annualized_volatility.append(Annualized_vol(w,stocks2))\n",
    "\n",
    "    start=start+delta_3m\n",
    "    end=end+delta_3m\n",
    "\n",
    "plt.plot(w_list[0],label='first')\n",
    "plt.plot(w_list[-1],label='last')\n",
    "plt.legend()\n",
    "plt.show()\n"
   ]
  },
  {
   "attachments": {},
   "cell_type": "markdown",
   "id": "a0f62706",
   "metadata": {},
   "source": [
    "# Indicators / results\n",
    " Money KPI investment DUBAI"
   ]
  },
  {
   "cell_type": "code",
   "execution_count": null,
   "id": "01d2199e",
   "metadata": {},
   "outputs": [],
   "source": [
    "#print(stocks2.mean(axis=0))\n",
    "Sharpe=np.dot(w,stocks2.mean(axis=0))/VAR(w,stocks2)    # Sharpe ratio with the risk free rate = 0\n",
    "print(Sharpe)\n",
    "print(VAR(w,stocks2))\n",
    "print(np.dot(w,stocks2.mean(axis=0)))"
   ]
  }
 ],
 "metadata": {
  "kernelspec": {
   "display_name": "base",
   "language": "python",
   "name": "python3"
  },
  "language_info": {
   "codemirror_mode": {
    "name": "ipython",
    "version": 3
   },
   "file_extension": ".py",
   "mimetype": "text/x-python",
   "name": "python",
   "nbconvert_exporter": "python",
   "pygments_lexer": "ipython3",
   "version": "3.9.12"
  },
  "vscode": {
   "interpreter": {
    "hash": "ad2bdc8ecc057115af97d19610ffacc2b4e99fae6737bb82f5d7fb13d2f2c186"
   }
  }
 },
 "nbformat": 4,
 "nbformat_minor": 5
}
